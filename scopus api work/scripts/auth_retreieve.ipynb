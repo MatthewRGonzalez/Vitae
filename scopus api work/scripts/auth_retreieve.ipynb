{
 "cells": [
  {
   "cell_type": "markdown",
   "metadata": {},
   "source": [
    "# The Script Below finds an Author's Historical Affiliation:"
   ]
  },
  {
   "cell_type": "code",
   "execution_count": null,
   "metadata": {},
   "outputs": [],
   "source": [
    "# based on exampleProg from elsapy folder\n",
    "\n",
    "\n",
    "\n",
    "\"\"\"An example program that uses the elsapy module\"\"\"\n",
    "\n",
    "from elsapy.elsclient import ElsClient\n",
    "from elsapy.elsprofile import ElsAuthor, ElsAffil\n",
    "from elsapy.elsdoc import FullDoc, AbsDoc\n",
    "from elsapy.elssearch import ElsSearch\n",
    "import json\n",
    "    \n",
    "## Load configuration\n",
    "con_file = open(\"config.json\")\n",
    "config = json.load(con_file)\n",
    "con_file.close()\n",
    "\n",
    "## Initialize client\n",
    "client = ElsClient(config['apikey'])\n",
    "\n",
    "## Author example\n",
    "# Initialize author with uri\n",
    "my_auth = ElsAuthor(\n",
    "        uri = 'https://api.elsevier.com/content/author/author_id/7004367821')\n",
    "# Read author data, then write to disk\n",
    "if my_auth.read(client):\n",
    "    af_hist = my_auth.hist_names['affiliation']\n",
    "    ids = [str(item['@id']) for item in af_hist]\n",
    "    \n",
    "else:\n",
    "    print (\"Read author failed.\")\n",
    "\n",
    "    print (\"Read affiliation failed.\")\n",
    "\n",
    "\n",
    "print(\"Author's Historical Affiliations:\")\n",
    "lst = []\n",
    "for i in ids:\n",
    "    my_aff = ElsAffil(affil_id=i)\n",
    "    if my_aff.read(client):\n",
    "        print (my_aff.name)\n",
    "        lst.append(my_aff.name)\n",
    "        my_aff.write()\n",
    "else:\n",
    "    print(\"Read affiliation failed.\")\n",
    "    \n"
   ]
  },
  {
   "cell_type": "markdown",
   "metadata": {},
   "source": [
    "# Note that it this data is also stored in a lst (for now)"
   ]
  },
  {
   "cell_type": "code",
   "execution_count": null,
   "metadata": {},
   "outputs": [],
   "source": [
    "lst"
   ]
  }
 ],
 "metadata": {
  "kernelspec": {
   "display_name": "Python 2",
   "language": "python",
   "name": "python2"
  },
  "language_info": {
   "codemirror_mode": {
    "name": "ipython",
    "version": 2
   },
   "file_extension": ".py",
   "mimetype": "text/x-python",
   "name": "python",
   "nbconvert_exporter": "python",
   "pygments_lexer": "ipython2",
   "version": "2.7.16"
  }
 },
 "nbformat": 4,
 "nbformat_minor": 4
}
