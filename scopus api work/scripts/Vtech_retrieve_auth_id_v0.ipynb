{
 "cells": [
  {
   "cell_type": "markdown",
   "metadata": {},
   "source": [
    "# The script to retrieve Auth_Id's\n",
    "\n",
    "Note the \"apply to dataframe\" example. I use the intution here to apply this to the full dataset"
   ]
  },
  {
   "cell_type": "code",
   "execution_count": null,
   "metadata": {},
   "outputs": [],
   "source": [
    "# Some imports\n",
    "import pandas as pd\n",
    "\n",
    "\n",
    "frame = pd.read_csv('Vtech.csv')\n",
    "frame"
   ]
  },
  {
   "cell_type": "code",
   "execution_count": null,
   "metadata": {},
   "outputs": [],
   "source": [
    "# We're going to Split fullname to two cols to get first and last name\n",
    "\n",
    "names = {0:'first',1:'last'}\n",
    "\n",
    "df = frame['Fullname'].str.split(' ',expand=True).rename(columns = names).fillna('')\n",
    "df = df.drop(columns = [2,3], axis =1)"
   ]
  },
  {
   "cell_type": "code",
   "execution_count": null,
   "metadata": {},
   "outputs": [],
   "source": [
    "frame['first']=df['first']\n",
    "frame['last'] = df['last']\n",
    "\n",
    "frame = frame[ ['last'] + [ col for col in frame.columns if col != 'last' ] ]\n",
    "frame = frame[ ['first'] + [ col for col in frame.columns if col != 'first' ] ]\n",
    "frame\n",
    "\n",
    "#frame['first','last'] = df\n"
   ]
  },
  {
   "cell_type": "code",
   "execution_count": null,
   "metadata": {},
   "outputs": [],
   "source": [
    "## Define a function to apply api calls over dataframe\n",
    "\n",
    "from elsapy.elsclient import ElsClient\n",
    "from elsapy.elsprofile import ElsAuthor, ElsAffil\n",
    "from elsapy.elsdoc import FullDoc, AbsDoc\n",
    "from elsapy.elssearch import ElsSearch\n",
    "import json\n",
    "    \n",
    "## Load configuration (contains my API key for scopus)\n",
    "con_file = open(\"config.json\")\n",
    "config = json.load(con_file)\n",
    "con_file.close()\n",
    "\n",
    "## Initialize client\n",
    "client = ElsClient(config['apikey'])\n",
    "\n",
    "\n",
    "#Based almost entirely on function from CV_Prog_beta\n",
    "#Try, Except passes over errors with api calls\n",
    "\n",
    "def auth_looker(first,last):\n",
    "    auth_srch = ElsSearch(('authlast(%s) and authfirst(%s)and affil(Virginia Polytechnic Institute)' %(last,first)),'author')\n",
    "    auth_srch.execute(client)\n",
    "    #Can change Affil value to increase coverage (Some auths use different institution names) \n",
    "    \n",
    "    try:\n",
    "        \n",
    "        ids = [(item['dc:identifier']) for item in auth_srch.results]\n",
    "    \n",
    "    except:\n",
    "        pass\n",
    "    \n",
    "    return(ids)\n",
    "\n",
    "# This is the function that allows us to use elements of our dataframe as arguments in the\n",
    "# auth_looker function. Function then \"enriches\" original dataframe with new 'id' column\n",
    "\n",
    "\n",
    "def enrich_w_auth(row):\n",
    "    column_first = 'first'\n",
    "    column_last = 'last'\n",
    "    first_val = row[column_first]\n",
    "    second_val = row[column_last]\n",
    "    try:\n",
    "        \n",
    "        auth_ids = (auth_looker(first_val,second_val))\n",
    "        row['id'] = auth_ids\n",
    "    \n",
    "    except:\n",
    "        row['id'] = ''\n",
    "    return row"
   ]
  },
  {
   "cell_type": "code",
   "execution_count": 12,
   "metadata": {},
   "outputs": [],
   "source": [
    "# Run (takes 5 seconds/scrape)\n",
    "    \n",
    "df = frame.apply(enrich_w_auth, axis = 1)"
   ]
  },
  {
   "cell_type": "code",
   "execution_count": 26,
   "metadata": {},
   "outputs": [
    {
     "data": {
      "text/html": [
       "<div>\n",
       "<style scoped>\n",
       "    .dataframe tbody tr th:only-of-type {\n",
       "        vertical-align: middle;\n",
       "    }\n",
       "\n",
       "    .dataframe tbody tr th {\n",
       "        vertical-align: top;\n",
       "    }\n",
       "\n",
       "    .dataframe thead th {\n",
       "        text-align: right;\n",
       "    }\n",
       "</style>\n",
       "<table border=\"1\" class=\"dataframe\">\n",
       "  <thead>\n",
       "    <tr style=\"text-align: right;\">\n",
       "      <th></th>\n",
       "      <th>Fullname</th>\n",
       "      <th>id</th>\n",
       "    </tr>\n",
       "  </thead>\n",
       "  <tbody>\n",
       "    <tr>\n",
       "      <th>count</th>\n",
       "      <td>2599</td>\n",
       "      <td>2600</td>\n",
       "    </tr>\n",
       "    <tr>\n",
       "      <th>unique</th>\n",
       "      <td>2599</td>\n",
       "      <td>2158</td>\n",
       "    </tr>\n",
       "    <tr>\n",
       "      <th>top</th>\n",
       "      <td>Saifur Rahman</td>\n",
       "      <td></td>\n",
       "    </tr>\n",
       "    <tr>\n",
       "      <th>freq</th>\n",
       "      <td>1</td>\n",
       "      <td>440</td>\n",
       "    </tr>\n",
       "  </tbody>\n",
       "</table>\n",
       "</div>"
      ],
      "text/plain": [
       "             Fullname    id\n",
       "count            2599  2600\n",
       "unique           2599  2158\n",
       "top     Saifur Rahman      \n",
       "freq                1   440"
      ]
     },
     "execution_count": 26,
     "metadata": {},
     "output_type": "execute_result"
    }
   ],
   "source": [
    "#\n",
    "\n",
    "df_copy = df.copy()\n",
    "df_copy[['Fullname','id']].describe()\n"
   ]
  },
  {
   "cell_type": "code",
   "execution_count": null,
   "metadata": {},
   "outputs": [],
   "source": [
    "#some cleaning (my api calls weren't perfect)\n",
    "\n",
    "df_copy = df.copy()\n",
    "df_copy['id'] = [(i[0].split(':')) for i in df_copy['id']]\n",
    "df_copy['id'] = [int(i[-1]) for i in df_copy['id']]\n",
    "df_copy"
   ]
  },
  {
   "cell_type": "code",
   "execution_count": 28,
   "metadata": {},
   "outputs": [],
   "source": [
    "df.to_csv('AUTH_ID_DATA.csv')"
   ]
  }
 ],
 "metadata": {
  "kernelspec": {
   "display_name": "Python 3",
   "language": "python",
   "name": "python3"
  },
  "language_info": {
   "codemirror_mode": {
    "name": "ipython",
    "version": 3
   },
   "file_extension": ".py",
   "mimetype": "text/x-python",
   "name": "python",
   "nbconvert_exporter": "python",
   "pygments_lexer": "ipython3",
   "version": "3.9.0"
  }
 },
 "nbformat": 4,
 "nbformat_minor": 4
}
