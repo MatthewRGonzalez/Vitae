{
 "cells": [
  {
   "cell_type": "markdown",
   "metadata": {},
   "source": [
    "# Improving Coverage Rate for Author ID's by Modifying Previous Scripts\n",
    "\n",
    "Note that in \"Vtech_retrieve_auth_id_v0\", I use \n",
    "\n",
    "```df = frame.apply(enrich_w_auth, axis = 1)``` \n",
    "\n",
    "This applies the auth_looker function to each row in the VTech csv file.  See [this page](https://github.com/MatthewRGonzalez/Vitae/blob/main/scopus%20api%20work/scripts/Vtech_retrieve%20auth_id_v0.ipynb) for details\n",
    "\n",
    "The auth_looker function searches for first and last names associated with \"Virginia Polytechnic Institute\". \n",
    "\n",
    "It came to my attention that this function did not capture every individual's author_id's, because some authors listed their affiliation as \"Virginia Tech\" or a similiar variation: See \"Dipankar Chakravarti\".\n",
    "\n",
    "To improve coverage. I believe that I can run a similiar function over the updated csv file to captured auth_id's from those whose afiliation name is similar to \"Virginia Polytechnic Institute\"\n",
    "\n",
    "\n",
    "\n",
    "\n",
    "\n",
    "\n",
    "\n"
   ]
  },
  {
   "cell_type": "code",
   "execution_count": null,
   "metadata": {},
   "outputs": [],
   "source": [
    "# Some imports\n",
    "import pandas as pd\n",
    "\n",
    "# Read in CSV. Here we have a list of auth_ids, but lets try to improve coverage...\n",
    "frame = pd.read_csv('multiple_authors.csv')\n",
    "frame.id\n"
   ]
  },
  {
   "cell_type": "code",
   "execution_count": null,
   "metadata": {},
   "outputs": [],
   "source": [
    "## Define a function to apply api calls over dataframe\n",
    "\n",
    "from elsapy.elsclient import ElsClient\n",
    "from elsapy.elsprofile import ElsAuthor, ElsAffil\n",
    "from elsapy.elsdoc import FullDoc, AbsDoc\n",
    "from elsapy.elssearch import ElsSearch\n",
    "import json\n",
    "    \n",
    "## Load configuration (contains my API key for scopus)\n",
    "con_file = open(\"config.json\")\n",
    "config = json.load(con_file)\n",
    "con_file.close()\n",
    "\n",
    "## Initialize client\n",
    "client = ElsClient(config['apikey'])\n",
    "\n",
    "\n",
    "#Based almost entirely on function from CV_Prog_beta\n",
    "#Try, Except passes over errors with api calls\n",
    "\n",
    "def auth_looker(first,last):\n",
    "    auth_srch = ElsSearch(('authlast(%s) and authfirst(%s)and affil(Virginia Tech)' %(last,first)),'author')\n",
    "    auth_srch.execute(client)\n",
    "    #Changed Affil value to increase coverage (Virginia Tech) \n",
    "    \n",
    "    try:\n",
    "        \n",
    "        ids = [(item['dc:identifier']) for item in auth_srch.results]\n",
    "    \n",
    "    except:\n",
    "        pass\n",
    "    \n",
    "    return(ids)\n",
    "\n",
    "# This is the function that allows us to use elements of our dataframe as arguments in the\n",
    "# auth_looker function. Function then \"enriches\" original dataframe with new 'id' column\n",
    "\n",
    "\n",
    "def enrich_w_auth(row):\n",
    "    column_first = 'first'\n",
    "    column_last = 'last'\n",
    "    first_val = row[column_first]\n",
    "    second_val = row[column_last]\n",
    "    try:\n",
    "        \n",
    "        auth_ids = (auth_looker(first_val,second_val))\n",
    "        row['id_other'] = auth_ids\n",
    "    \n",
    "    except:\n",
    "        row['id_other'] = ''\n",
    "    return row\n",
    "\n"
   ]
  },
  {
   "cell_type": "code",
   "execution_count": null,
   "metadata": {},
   "outputs": [],
   "source": [
    "df = frame.apply(enrich_w_auth, axis = 1)"
   ]
  },
  {
   "cell_type": "markdown",
   "metadata": {},
   "source": [
    "### Thoughts:\n",
    "\n",
    "This isn't the most efficient or concise code. Also, I'm not sure if this will work perfectly (I'll know after I run it in Syracuse). My guess is that it will create a new col where for individuals whose affiliation name is captured by \"Virginia Tech\", instead of \"Virginia Polytechnic Institue\". Then I can just clean the data and merge the columns."
   ]
  },
  {
   "cell_type": "code",
   "execution_count": null,
   "metadata": {},
   "outputs": [],
   "source": []
  }
 ],
 "metadata": {
  "kernelspec": {
   "display_name": "Python 3",
   "language": "python",
   "name": "python3"
  },
  "language_info": {
   "codemirror_mode": {
    "name": "ipython",
    "version": 3
   },
   "file_extension": ".py",
   "mimetype": "text/x-python",
   "name": "python",
   "nbconvert_exporter": "python",
   "pygments_lexer": "ipython3",
   "version": "3.9.0"
  }
 },
 "nbformat": 4,
 "nbformat_minor": 4
}
