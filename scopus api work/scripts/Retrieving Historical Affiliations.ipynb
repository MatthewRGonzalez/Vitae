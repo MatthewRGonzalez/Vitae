{
 "cells": [
  {
   "cell_type": "markdown",
   "metadata": {},
   "source": [
    "# Script to retrieve historical afilliations from auth_id\n"
   ]
  },
  {
   "cell_type": "code",
   "execution_count": null,
   "metadata": {},
   "outputs": [],
   "source": [
    "import pandas as pd \n",
    "frame = pd.read_csv('multiple_authors.csv')\n",
    "\n"
   ]
  },
  {
   "cell_type": "code",
   "execution_count": null,
   "metadata": {},
   "outputs": [],
   "source": [
    "\n",
    "\n",
    "def hist_lookup(aid):\n",
    "    my_auth = ElsAuthor(\n",
    "        uri = 'https://api.elsevier.com/content/author/author_id/'+str(aid))\n",
    "# Read author data, then write to disk\n",
    "    if my_auth.read(client):\n",
    "        af_hist = my_auth.hist_names['affiliation']\n",
    "        ids = [str(item['@id']) for item in af_hist]\n",
    "        return(ids)\n",
    "    else:\n",
    "        print (\"Read author failed.\")\n",
    "        \n",
    "        print (\"Read affiliation failed.\")\n",
    "\n",
    "        \n",
    "        \n",
    "        \n",
    "def enrich_w_hist(row):\n",
    "    column_id = 'id_0'\n",
    "    val = row[column_id]\n",
    "    try:\n",
    "        \n",
    "        auth_ids = (hist_lookup(val))\n",
    "        row['Hist_id_list'] = auth_ids\n",
    "    \n",
    "    except:\n",
    "        row['id_other'] = ''\n",
    "    return row\n",
    "               \n",
    "        \n",
    "        \n",
    "        \n",
    "def hist_name(ids):\n",
    "    lst = []\n",
    "    for i in ids:\n",
    "        my_aff = ElsAffil(affil_id=i)\n",
    "        if my_aff.read(client):\n",
    "            print (my_aff.name)\n",
    "            lst.append(my_aff.name)\n",
    "            my_aff.write()\n",
    "    else:\n",
    "        print(\"Read affiliation failed.\")\n",
    "        "
   ]
  },
  {
   "cell_type": "code",
   "execution_count": null,
   "metadata": {},
   "outputs": [],
   "source": [
    "df = frame.apply(enrich_w_hist, axis = 1)\n"
   ]
  },
  {
   "cell_type": "markdown",
   "metadata": {},
   "source": [
    "# this will give us a list of ids\n",
    "\n",
    "these id's represent correspond to the author's historical affiliations. Then we can use hist_name function to get the list of actual names."
   ]
  },
  {
   "cell_type": "code",
   "execution_count": null,
   "metadata": {},
   "outputs": [],
   "source": []
  }
 ],
 "metadata": {
  "kernelspec": {
   "display_name": "Python 3",
   "language": "python",
   "name": "python3"
  },
  "language_info": {
   "codemirror_mode": {
    "name": "ipython",
    "version": 3
   },
   "file_extension": ".py",
   "mimetype": "text/x-python",
   "name": "python",
   "nbconvert_exporter": "python",
   "pygments_lexer": "ipython3",
   "version": "3.9.0"
  }
 },
 "nbformat": 4,
 "nbformat_minor": 4
}
