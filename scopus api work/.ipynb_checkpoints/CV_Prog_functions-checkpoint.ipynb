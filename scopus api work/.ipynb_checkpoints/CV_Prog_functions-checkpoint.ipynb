{
 "cells": [
  {
   "cell_type": "markdown",
   "metadata": {},
   "source": [
    "# Contains Functions for Interacting with API"
   ]
  },
  {
   "cell_type": "code",
   "execution_count": 199,
   "metadata": {},
   "outputs": [
    {
     "name": "stdout",
     "output_type": "stream",
     "text": [
      "auth_srch has 1 results.\n"
     ]
    },
    {
     "data": {
      "text/plain": [
       "['AUTHOR_ID:16471353300']"
      ]
     },
     "execution_count": 199,
     "metadata": {},
     "output_type": "execute_result"
    }
   ],
   "source": [
    "from elsapy.elsclient import ElsClient\n",
    "from elsapy.elsprofile import ElsAuthor, ElsAffil\n",
    "from elsapy.elsdoc import FullDoc, AbsDoc\n",
    "from elsapy.elssearch import ElsSearch\n",
    "import json\n",
    "    \n",
    "## Load configuration\n",
    "con_file = open(\"config.json\")\n",
    "config = json.load(con_file)\n",
    "con_file.close()\n",
    "\n",
    "## Initialize client\n",
    "client = ElsClient(config['apikey'])\n",
    "\n",
    "\n",
    "\n",
    "## Initialize author search object and execute search\n",
    "auth_srch = ElsSearch('authlast(Ahmadian) and authfirst(Mehdi)and affil(Virginia Tech)','author')\n",
    "auth_srch.execute(client)\n",
    "print (\"auth_srch has\", len(auth_srch.results), \"results.\")\n",
    "\n",
    "\n",
    "ids = [(item['dc:identifier']) for item in auth_srch.results]\n",
    "\n",
    "ids"
   ]
  },
  {
   "cell_type": "code",
   "execution_count": 200,
   "metadata": {},
   "outputs": [],
   "source": [
    "\n",
    "## Define an author lookup function\n",
    "def auth_look(first,last):\n",
    "    auth_srch = ElsSearch(('authlast(%s) and authfirst(%s)and affil(Virginia Polytechnic Institute)' %(last,first)),'author')\n",
    "    auth_srch.execute(client)\n",
    "    print (\"auth_srch has\", len(auth_srch.results), \"results.\")\n",
    "    \n",
    "\n",
    "    ids = [(item['dc:identifier']) for item in auth_srch.results]\n",
    "    print(ids)\n",
    "\n",
    "    "
   ]
  },
  {
   "cell_type": "code",
   "execution_count": 201,
   "metadata": {},
   "outputs": [],
   "source": [
    "def hist_lookup(aid):\n",
    "    my_auth = ElsAuthor(\n",
    "        uri = 'https://api.elsevier.com/content/author/author_id/'+str(aid))\n",
    "# Read author data, then write to disk\n",
    "    if my_auth.read(client):\n",
    "        af_hist = my_auth.hist_names['affiliation']\n",
    "        ids = [str(item['@id']) for item in af_hist]\n",
    "        return(ids)\n",
    "    else:\n",
    "        print (\"Read author failed.\")\n",
    "\n",
    "        print (\"Read affiliation failed.\")\n",
    "\n",
    "    \n",
    "   "
   ]
  },
  {
   "cell_type": "code",
   "execution_count": 202,
   "metadata": {},
   "outputs": [],
   "source": [
    "def hist_name(ids):\n",
    "    lst = []\n",
    "    for i in ids:\n",
    "        my_aff = ElsAffil(affil_id=i)\n",
    "        if my_aff.read(client):\n",
    "            print (my_aff.name)\n",
    "            lst.append(my_aff.name)\n",
    "            my_aff.write()\n",
    "    else:\n",
    "        print(\"Read affiliation failed.\")\n",
    "        "
   ]
  },
  {
   "cell_type": "code",
   "execution_count": null,
   "metadata": {},
   "outputs": [],
   "source": [
    "auth_look('Anne-Sophie','Chaxel')"
   ]
  },
  {
   "cell_type": "code",
   "execution_count": null,
   "metadata": {},
   "outputs": [],
   "source": [
    "hist_name(hist_lookup(36169200700))"
   ]
  }
 ],
 "metadata": {
  "kernelspec": {
   "display_name": "Python 3",
   "language": "python",
   "name": "python3"
  },
  "language_info": {
   "codemirror_mode": {
    "name": "ipython",
    "version": 3
   },
   "file_extension": ".py",
   "mimetype": "text/x-python",
   "name": "python",
   "nbconvert_exporter": "python",
   "pygments_lexer": "ipython3",
   "version": "3.8.3"
  }
 },
 "nbformat": 4,
 "nbformat_minor": 4
}
