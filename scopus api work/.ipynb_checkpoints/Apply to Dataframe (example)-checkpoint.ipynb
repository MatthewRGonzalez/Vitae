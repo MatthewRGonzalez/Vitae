{
 "cells": [
  {
   "cell_type": "markdown",
   "metadata": {},
   "source": [
    "# Test Script that develops a dataframe containing elsavier auth_ids \n",
    "\n",
    "\n",
    "## Idea:\n",
    "\n",
    "The idea here is that we can loop a function over the entire vtech_cv project to retrieve elsavier author_ids. Given these author_ids, we use a similiar script to develop a dataset with both current and historical institution affiliations. (Using functions developed in CV_Prog_beta.\n",
    "\n",
    "See below:"
   ]
  },
  {
   "cell_type": "code",
   "execution_count": null,
   "metadata": {},
   "outputs": [],
   "source": [
    "# frame shows our \"total\" excel dataframe\n",
    "import pandas as pd\n",
    "frame = pd.read_csv('Vtech.csv')"
   ]
  },
  {
   "cell_type": "code",
   "execution_count": null,
   "metadata": {},
   "outputs": [],
   "source": [
    "#Create a subset of the excel df for test purposes. Note that we are using first names\n",
    "# and last names in two seperate cols. Run script for visual\n",
    "\n",
    "names = {'first': ['Aarnes', 'Abby', 'Abby', 'Abiola', 'Achla'],\n",
    "        'last': ['Gudmestad', 'Walker', 'Whittington', 'Akanmu', 'Marathe']\n",
    "        } \n",
    "\n",
    "df = pd.DataFrame(names, columns = ['first','last'])\n",
    "\n",
    "df\n",
    "\n",
    " \n"
   ]
  },
  {
   "cell_type": "code",
   "execution_count": null,
   "metadata": {},
   "outputs": [],
   "source": [
    "## Define a function to apply api calls over dataframe\n",
    "\n",
    "from elsapy.elsclient import ElsClient\n",
    "from elsapy.elsprofile import ElsAuthor, ElsAffil\n",
    "from elsapy.elsdoc import FullDoc, AbsDoc\n",
    "from elsapy.elssearch import ElsSearch\n",
    "import json\n",
    "    \n",
    "## Load configuration\n",
    "con_file = open(\"config.json\")\n",
    "config = json.load(con_file)\n",
    "con_file.close()\n",
    "\n",
    "## Initialize client\n",
    "client = ElsClient(config['apikey'])\n",
    "\n",
    "\n",
    "\n",
    "\n",
    "#Based almost entirely on function from CV_Prog_beta\n",
    "#Try, Except (hopefully) passes over errors with api calls\n",
    "\n",
    "def auth_looker(first,last):\n",
    "    auth_srch = ElsSearch(('authlast(%s) and authfirst(%s)and affil(Virginia Polytechnic Institute)' %(last,first)),'author')\n",
    "    auth_srch.execute(client)\n",
    "    \n",
    "    try:\n",
    "        \n",
    "        ids = [(item['dc:identifier']) for item in auth_srch.results]\n",
    "    \n",
    "    except:\n",
    "        pass\n",
    "    \n",
    "    return(ids)\n",
    "\n",
    "# This is the function that allows us to use elements of our dataframe as arguments in the\n",
    "# auth_looker function\n",
    "\n",
    "\n",
    "def enrich_w_auth(row):\n",
    "    column_first = 'first'\n",
    "    column_last = 'last'\n",
    "    first_val = row[column_first]\n",
    "    second_val = row[column_last]\n",
    "    \n",
    "    auth_ids = (auth_looker(first_val,second_val))\n",
    "    row['id'] = auth_ids\n",
    "    return row\n"
   ]
  },
  {
   "cell_type": "code",
   "execution_count": null,
   "metadata": {},
   "outputs": [],
   "source": [
    "# test run using example df\n",
    "\n",
    "df = df.apply(enrich_w_auth, axis = 1)"
   ]
  },
  {
   "cell_type": "code",
   "execution_count": null,
   "metadata": {},
   "outputs": [],
   "source": [
    "#some cleaning (my api calls weren't perfect)\n",
    "\n",
    "df_copy = df.copy()\n",
    "df_copy['id'] = [(i[0].split(':')) for i in df_copy['id']]\n",
    "df_copy['id'] = [int(i[-1]) for i in df_copy['id']]\n",
    "df_copy"
   ]
  },
  {
   "cell_type": "code",
   "execution_count": null,
   "metadata": {},
   "outputs": [],
   "source": []
  }
 ],
 "metadata": {
  "kernelspec": {
   "display_name": "Python 3",
   "language": "python",
   "name": "python3"
  },
  "language_info": {
   "codemirror_mode": {
    "name": "ipython",
    "version": 3
   },
   "file_extension": ".py",
   "mimetype": "text/x-python",
   "name": "python",
   "nbconvert_exporter": "python",
   "pygments_lexer": "ipython3",
   "version": "3.8.3"
  }
 },
 "nbformat": 4,
 "nbformat_minor": 4
}
