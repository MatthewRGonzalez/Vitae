{
 "cells": [
  {
   "cell_type": "code",
   "execution_count": null,
   "metadata": {},
   "outputs": [],
   "source": [
    "import pandas as pd\n",
    "\n",
    "df = pd.read_csv('AUTH_ID_DATA.csv')"
   ]
  },
  {
   "cell_type": "code",
   "execution_count": null,
   "metadata": {},
   "outputs": [],
   "source": [
    "df = df[:-1]\n",
    "df.tail()"
   ]
  },
  {
   "cell_type": "code",
   "execution_count": null,
   "metadata": {},
   "outputs": [],
   "source": [
    "missing = df['id'].isna().sum()\n",
    "total = len(df['id'])\n",
    "coverage = (1 - (missing/total))\n",
    "print(\"The coverage for id's available in the Elsavier API is: %f\" % coverage)"
   ]
  },
  {
   "cell_type": "code",
   "execution_count": null,
   "metadata": {},
   "outputs": [],
   "source": [
    "# Considering accuracy: assuming that authors with more than one auth_id might be more difficult to analyze:\n",
    "id_list_df = ([x.strip('][').split(',') for x in df['id'] if type(x) != float])\n",
    "mult_size = pd.DataFrame([x for x in id_list_df if len(x)>2])\n",
    "mult_id = mult_size.shape[0]\n",
    "simples = (total - (missing + mult_id))\n",
    "\n",
    "print(\"There are %d individuals in the dataset with multiple author id's\" %mult_id)\n",
    "print(\"-\"*50)\n",
    "print(\"There are %d simple cases where an author has only one id\" %simples)\n"
   ]
  },
  {
   "cell_type": "code",
   "execution_count": null,
   "metadata": {},
   "outputs": [],
   "source": [
    "# updates id col to list\n",
    "df['id'] = [x.strip('][').split(',') if type(x) != float else '' for x in df['id']]\n"
   ]
  },
  {
   "cell_type": "code",
   "execution_count": null,
   "metadata": {},
   "outputs": [],
   "source": [
    "for i in range(0,12):\n",
    "    df['id_'+str(i)] = [x[i] if i in range(len(x)) else '' for x in df['id']]\n"
   ]
  },
  {
   "cell_type": "code",
   "execution_count": null,
   "metadata": {},
   "outputs": [],
   "source": [
    "start = df.columns.get_loc('id_0')\n",
    "end = df.columns.get_loc('id_11')\n"
   ]
  },
  {
   "cell_type": "code",
   "execution_count": null,
   "metadata": {},
   "outputs": [],
   "source": [
    "working = df.copy()\n",
    "\n",
    "for j in range(start, end):\n",
    "    working.iloc[:,j] =[i.split(':') if type(i) == str else '' for i in working.iloc[:,j]]\n",
    "    \n",
    "    working.iloc[:,j] = [i[1] if len(i)==2  else '' for i in working.iloc[:,j]]\n",
    "    working.iloc[:,j] = [int(i[:-1]) if i != '' else '' for i in working.iloc[:,j]]"
   ]
  },
  {
   "cell_type": "code",
   "execution_count": null,
   "metadata": {},
   "outputs": [],
   "source": [
    "working = working.drop(columns = ['Unnamed: 0', 'Unnamed: 21'])\n",
    "\n"
   ]
  },
  {
   "cell_type": "code",
   "execution_count": null,
   "metadata": {},
   "outputs": [],
   "source": [
    "# Here I creat a csv of auth_id's \n",
    "\n",
    "working.to_csv('multiple_authors.csv')"
   ]
  }
 ],
 "metadata": {
  "kernelspec": {
   "display_name": "Python 3",
   "language": "python",
   "name": "python3"
  },
  "language_info": {
   "codemirror_mode": {
    "name": "ipython",
    "version": 3
   },
   "file_extension": ".py",
   "mimetype": "text/x-python",
   "name": "python",
   "nbconvert_exporter": "python",
   "pygments_lexer": "ipython3",
   "version": "3.8.3"
  }
 },
 "nbformat": 4,
 "nbformat_minor": 4
}
